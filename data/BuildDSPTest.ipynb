{
 "cells": [
  {
   "cell_type": "markdown",
   "metadata": {},
   "source": [
    "# Build DSP Test\n",
    "\n",
    "This notebook processes the waveforms in test datasets using the **dspeed** package. The output files contain predicted data cleaning labels by the trained SVM and the corresponding energy for each event. First, we load modules and files."
   ]
  },
  {
   "cell_type": "code",
   "execution_count": 2,
   "metadata": {},
   "outputs": [],
   "source": [
    "# Load modules \n",
    "import os, json, lgdo\n",
    "import numpy as np\n",
    "import matplotlib.pyplot as plt\n",
    "from dspeed import build_dsp"
   ]
  },
  {
   "cell_type": "markdown",
   "metadata": {},
   "source": [
    "Load the training dataset raw file and the **dsp** configuration file with the necessary processors."
   ]
  },
  {
   "cell_type": "code",
   "execution_count": 27,
   "metadata": {
    "tags": []
   },
   "outputs": [],
   "source": [
    "dataset = 'normal'\n",
    "raw_file = f'./{dataset}_data_raw.h5'\n",
    "dsp_file = f'./{dataset}_data_dsp.h5'\n",
    "\n",
    "with open(\"./dsp_config_test.json\", \"r\") as f:\n",
    "    dsp_config = json.load(f)"
   ]
  },
  {
   "cell_type": "markdown",
   "metadata": {
    "tags": []
   },
   "source": [
    "Here we DSP the training dataset."
   ]
  },
  {
   "cell_type": "code",
   "execution_count": 28,
   "metadata": {
    "tags": []
   },
   "outputs": [
    {
     "data": {
      "application/vnd.jupyter.widget-view+json": {
       "model_id": "61f62fcccba34a4aa4adcd0a5848275b",
       "version_major": 2,
       "version_minor": 0
      },
      "text/plain": [
       "Processing table detector/raw:   2%|1         | 3200/200000 [00:02<02:16, 1446.58 rows/s]"
      ]
     },
     "metadata": {},
     "output_type": "display_data"
    }
   ],
   "source": [
    "import logging \n",
    "logger = logging.getLogger(__name__)\n",
    "logger.setLevel(level='DEBUG')\n",
    "\n",
    "build_dsp(raw_file, \n",
    "          dsp_file, \n",
    "          dsp_config = dsp_config,\n",
    "          write_mode = 'r')"
   ]
  },
  {
   "cell_type": "markdown",
   "metadata": {},
   "source": [
    "Sanity check to make sure the **dsp** file was written properly."
   ]
  },
  {
   "cell_type": "code",
   "execution_count": 29,
   "metadata": {
    "tags": []
   },
   "outputs": [
    {
     "name": "stdout",
     "output_type": "stream",
     "text": [
      "\u001b[1m/\u001b[0m\n",
      "└── \u001b[1mdetector\u001b[0m · HDF5 group \n",
      "    └── \u001b[1mdsp\u001b[0m · table{energy,svm_label} \n",
      "        ├── \u001b[1menergy\u001b[0m · array<1>{real} \n",
      "        └── \u001b[1msvm_label\u001b[0m · array<1>{real} \n"
     ]
    }
   ],
   "source": [
    "lgdo.lh5.show(dsp_file)"
   ]
  },
  {
   "cell_type": "code",
   "execution_count": null,
   "metadata": {},
   "outputs": [],
   "source": []
  }
 ],
 "metadata": {
  "kernelspec": {
   "display_name": "pygama",
   "language": "python",
   "name": "pygama"
  },
  "language_info": {
   "codemirror_mode": {
    "name": "ipython",
    "version": 3
   },
   "file_extension": ".py",
   "mimetype": "text/x-python",
   "name": "python",
   "nbconvert_exporter": "python",
   "pygments_lexer": "ipython3",
   "version": "3.10.14"
  }
 },
 "nbformat": 4,
 "nbformat_minor": 4
}
