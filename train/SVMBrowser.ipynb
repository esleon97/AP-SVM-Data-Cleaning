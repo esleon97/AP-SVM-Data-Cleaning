{
 "cells": [
  {
   "cell_type": "markdown",
   "metadata": {},
   "source": [
    "# SVM Browser\n",
    "\n",
    "This notebook takes in a sample of normalized discrete wavelete transform approximation coefficients with corresponding data cleaning labels and outputs a trained SVM model. First, we load modules and files."
   ]
  },
  {
   "cell_type": "code",
   "execution_count": 2,
   "metadata": {},
   "outputs": [],
   "source": [
    "# Load modules\n",
    "import time, pickle, json\n",
    "import lgdo\n",
    "import numpy as np\n",
    "from sklearn.svm import SVC\n",
    "\n",
    "# Load files\n",
    "with open('../data/hyperparameters.json', 'r') as infile:\n",
    "    hyperparams_dict = json.load(infile)\n",
    "    \n",
    "# Load data \n",
    "sto = lgdo.lh5.LH5Store()\n",
    "tb_dsp, _ = sto.read('detector/dsp', '../data/train_data_dsp.h5')"
   ]
  },
  {
   "cell_type": "markdown",
   "metadata": {},
   "source": [
    "Here we define the training inputs that will go into the SVM."
   ]
  },
  {
   "cell_type": "code",
   "execution_count": 3,
   "metadata": {},
   "outputs": [],
   "source": [
    "dwts_norm = tb_dsp['dwt_norm'].nda\n",
    "labels = tb_dsp['dc_label'].nda\n",
    "SVM_hyperparams = hyperparams_dict['SVM']"
   ]
  },
  {
   "cell_type": "markdown",
   "metadata": {},
   "source": [
    "Now we train the SVM with the optimal hyperparameters found, and then save the trained model."
   ]
  },
  {
   "cell_type": "code",
   "execution_count": 4,
   "metadata": {
    "tags": []
   },
   "outputs": [
    {
     "name": "stdout",
     "output_type": "stream",
     "text": [
      "--- 0.24241280555725098 seconds ---\n"
     ]
    }
   ],
   "source": [
    "svm = SVC(random_state=SVM_hyperparams['random_state'], \n",
    "          kernel=SVM_hyperparams['kernel'], \n",
    "          decision_function_shape=SVM_hyperparams['decision_function_shape'],\n",
    "          class_weight=SVM_hyperparams['class_weight'],\n",
    "          C=float(SVM_hyperparams['C']),\n",
    "          gamma=float(SVM_hyperparams['gamma']))\n",
    "\n",
    "start_time = time.time()\n",
    "svm.fit(dwts_norm, labels)\n",
    "print(\"--- %s seconds ---\" % (time.time() - start_time))\n",
    "\n",
    "with open(\"../data/svm.sav\", \"wb\") as svm_file:\n",
    "    pickle.dump(svm, svm_file)"
   ]
  },
  {
   "cell_type": "code",
   "execution_count": null,
   "metadata": {},
   "outputs": [],
   "source": []
  }
 ],
 "metadata": {
  "kernelspec": {
   "display_name": "pygama",
   "language": "python",
   "name": "pygama"
  },
  "language_info": {
   "codemirror_mode": {
    "name": "ipython",
    "version": 3
   },
   "file_extension": ".py",
   "mimetype": "text/x-python",
   "name": "python",
   "nbconvert_exporter": "python",
   "pygments_lexer": "ipython3",
   "version": "3.10.14"
  }
 },
 "nbformat": 4,
 "nbformat_minor": 4
}
